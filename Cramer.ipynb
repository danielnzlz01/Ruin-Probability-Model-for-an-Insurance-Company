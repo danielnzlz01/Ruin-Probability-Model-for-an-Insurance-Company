{
 "cells": [
  {
   "cell_type": "code",
   "execution_count": 1,
   "metadata": {},
   "outputs": [],
   "source": [
    "from random import random, setstate, getstate\n",
    "from math import e, log as ln\n",
    "from functools import reduce\n",
    "import pandas as pd\n",
    "import matplotlib.pyplot as plt"
   ]
  },
  {
   "cell_type": "code",
   "execution_count": 2,
   "metadata": {},
   "outputs": [],
   "source": [
    "# def factorial(x: int, _cache={}) -> int:\n",
    "#     if x >= 0:\n",
    "#         if x in _cache:\n",
    "#             return _cache[x]\n",
    "#         val = reduce(int.__mul__, range(1, x+1), 1)\n",
    "#         _cache[x] = val\n",
    "#         return val\n",
    "\n",
    "# def pois(k: int, param: float = 1):\n",
    "#     \"\"\"If X ~ Po(param), returns P(X = k); PDF(k)\"\"\"\n",
    "#     if param > 0 and type(k) is int and k >= 0:\n",
    "#         return e**-param * param**k / factorial(k)\n",
    "\n",
    "\n",
    "# def qpois(k: float, param: float = 1):\n",
    "#     \"\"\"If X ~ Po(param), returns P(X <= k); CDF(k)\"\"\"\n",
    "#     if param > 0 and type(k) is int:\n",
    "#         return e**-param * sum(param**i / factorial(i) for i in range(int(k)))\n",
    "\n",
    "\n",
    "# def exp(k: float, param: float = 1):\n",
    "#     \"\"\"If X ~ Exp(param), returns P(X = k)\"\"\"\n",
    "#     if param > 0 and type(k) in {float, int}:\n",
    "#         return param * e**(-param*k) if k >= 0 else 0\n",
    "\n",
    "\n",
    "# def qexp(k: float, param: float = 1):\n",
    "#     \"\"\"If X ~ Exp(param), returns P(X <= k)\"\"\"\n",
    "#     if param > 0 and type(k) in {float, int}:\n",
    "#         return 1 - e**(-param*k) if k >= 0 else 0"
   ]
  },
  {
   "cell_type": "code",
   "execution_count": 3,
   "metadata": {},
   "outputs": [],
   "source": [
    "def rpois(n: int = 1, param: float = 1, rng=random):\n",
    "    \"\"\"Poisson generator based upon the inversion by sequential search from (https://en.wikipedia.org/wiki/Poisson_distribution#Random_variate_generation)\"\"\"\n",
    "    r = []\n",
    "    for _ in range(n):\n",
    "        x = 0\n",
    "        p = e**-param\n",
    "        s = p\n",
    "        u = rng()\n",
    "        while u > s:\n",
    "            x += 1\n",
    "            p *= param/x\n",
    "            s += p\n",
    "        r.append(x)\n",
    "    return r\n",
    "\n",
    "\n",
    "def rexp(n: int = 1, param: float = 1, rng=random):\n",
    "    return [-ln(u)/param for u in (rng() for _ in range(n))]"
   ]
  },
  {
   "cell_type": "code",
   "execution_count": 4,
   "metadata": {},
   "outputs": [],
   "source": [
    "class Insurance():\n",
    "\n",
    "    __ruin_warning = False\n",
    "\n",
    "    def __init__(self, u: float, c: float, arr_rate: float, amt_rate: float, inv_rng: bool = False, initial_state=None) -> None:\n",
    "        self.u = u\n",
    "        self.c = c\n",
    "        self.arr_rate = arr_rate\n",
    "        self.amt_rate = amt_rate\n",
    "        self.x = u\n",
    "        self.claims_received = 0\n",
    "        self.max_capital = u\n",
    "        self.min_capital = u\n",
    "        self._time = 0\n",
    "        self._ruined = False\n",
    "        self.traj = []\n",
    "        if initial_state is None:\n",
    "            self._initial_state = getstate()\n",
    "        else:\n",
    "            self._initial_state = initial_state\n",
    "            setstate(initial_state)\n",
    "        if inv_rng == False:\n",
    "            self.rng = random\n",
    "        else:\n",
    "            self.rng = lambda: 1 - random()\n",
    "\n",
    "    def __iadd__(self, delta_t: int) -> None:\n",
    "        # if the company is ruined don't do anything\n",
    "        if self._ruined:\n",
    "            return self\n",
    "\n",
    "        for _ in range(delta_t):\n",
    "        # debug\n",
    "        #   print(f\"{self._time:>5}\\t+{self.c:>15,.2f}\")\n",
    "        #   last_x = self.x\n",
    "        #\n",
    "            # claims\n",
    "            claim_amt = rpois(param=self.arr_rate, rng=self.rng)[0]\n",
    "            dt = 1/(claim_amt+1)\n",
    "            for _ in range(claim_amt):\n",
    "                claim = rexp(param=self.amt_rate, rng=self.rng)[0]\n",
    "                self.x -= claim\n",
    "                self._time += dt\n",
    "                self.traj.append((self._time, self.x))\n",
    "\n",
    "            # debug\n",
    "            #   print(f\"{self._time:>5}\\t-{(last_x-self.x)/claim_amt:>15,.2f}\")\n",
    "            #\n",
    "\n",
    "                # updating internal vars\n",
    "                self.max_capital = max(self.x, self.max_capital)\n",
    "                self.min_capital = min(self.x, self.min_capital)\n",
    "                if self.x <= 0:\n",
    "                    self.ruin()\n",
    "                    break\n",
    "\n",
    "                \n",
    "\n",
    "            self._time = round(self._time)\n",
    "\n",
    "            # premiums\n",
    "            self.x += self.c\n",
    "            self.traj.append((self._time, self.x))\n",
    "\n",
    "        # debug\n",
    "        #   print(f\"{self._time:>5}\\t-{(last_x-self.x)/claim_amt:>15,.2f}\")\n",
    "        #\n",
    "\n",
    "        return self\n",
    "\n",
    "    def ruin(self):\n",
    "        self._ruined = True\n",
    "        if Insurance.__ruin_warning:\n",
    "            print(f\"\"\"\\\n",
    "    The company is ruined!!\n",
    "    It survived {self._time} days and ended up with a capital of ${self.x:,.2f}.\n",
    "    The highest capital achieved was ${self.max_capital:,.2f},\n",
    "    The lowest capital recorded was ${self.min_capital:,.2f}\"\"\")\n",
    "\n",
    "    def __str__(self) -> str:\n",
    "        return f\"\"\"\\\n",
    "The company has survived for {self._time} days and has a current capital of ${self.x:,.2f}.\n",
    "The highest capital achieved yet is ${self.max_capital:,.2f},\n",
    "The lowest capital recorded yet is ${self.min_capital:,.2f}\"\"\"\n"
   ]
  },
  {
   "cell_type": "code",
   "execution_count": 5,
   "metadata": {},
   "outputs": [
    {
     "name": "stdout",
     "output_type": "stream",
     "text": [
      " 500"
     ]
    }
   ],
   "source": [
    "proportions_over_time = []\n",
    "failures = 0\n",
    "n = 500\n",
    "time = 10000\n",
    "\n",
    "for i in range(1, n+1):\n",
    "    I = Insurance(14_000_000, 2_290_000, 74.241, 3.25e-5)\n",
    "    for _ in range(time):\n",
    "        I += 1\n",
    "        \n",
    "    failures += I._ruined\n",
    "    proportions_over_time.append(failures/i)\n",
    "\n",
    "    #traj = pd.DataFrame(I.traj)\n",
    "\n",
    "    #plt.plot(traj[0], traj[1])\n",
    "    #plt.ylim(0, I.max_capital*1.03)\n",
    "    #plt.xlim(0, I._time*1.01)\n",
    "    #print(f\"{I.max_capital=}\\n{I.min_capital=}\")\n",
    "\n",
    "    print('\\r',i, end='')"
   ]
  },
  {
   "cell_type": "code",
   "execution_count": 6,
   "metadata": {},
   "outputs": [
    {
     "name": "stdout",
     "output_type": "stream",
     "text": [
      "Crude Monte Carlo with 500 samples until time = 10000\n",
      "failure rate: 36.00%\n",
      "10% confidence interval: [31.79%, 40.21%]\n"
     ]
    }
   ],
   "source": [
    "p = failures/n\n",
    "print(f\"Crude Monte Carlo with {n} samples until time = {time}\")\n",
    "print(f'\\rfailure rate: {p:.2%}')\n",
    "print(f'10% confidence interval: [{p - 1.96*(p*(1-p)/n)**.5:.2%}, {p + 1.96*(p*(1-p)/n)**.5:.2%}]')"
   ]
  },
  {
   "cell_type": "code",
   "execution_count": 7,
   "metadata": {},
   "outputs": [
    {
     "name": "stdout",
     "output_type": "stream",
     "text": [
      " 260"
     ]
    }
   ],
   "source": [
    "# antithetic vars\n",
    "import math\n",
    "# estimation of number of trials at 5% of +-5%\n",
    "z = 1.65\n",
    "E = 0.05\n",
    "\n",
    "n_ = z**2*p*(1-p)/E**2\n",
    "\n",
    "# round to the nearest 10th\n",
    "n_ = math.ceil(n_/10)*10\n",
    "\n",
    "failures_ = 0\n",
    "proportions_over_time_ = []\n",
    "\n",
    "for i in range(1, n_+1, 2):\n",
    "    \n",
    "    # first run\n",
    "    I = Insurance(14_000_000, 2_290_000, 74.241, 3.25e-5)\n",
    "    for _ in range(time):\n",
    "        I += 1\n",
    "\n",
    "    failures_ += I._ruined\n",
    "    proportions_over_time_.append(failures_/i)\n",
    "\n",
    "    # second run\n",
    "    i += 1\n",
    "    I_ = Insurance(14_000_000, 2_285_016, 74.241, 3.25e-5, inv_rng = True, initial_state = I._initial_state)\n",
    "    for _ in range(time):\n",
    "        I_ += 1\n",
    "\n",
    "    failures_ += I_._ruined\n",
    "    proportions_over_time_.append(failures_/i)\n",
    "\n",
    "    print('\\r',i, end='')"
   ]
  },
  {
   "cell_type": "code",
   "execution_count": 8,
   "metadata": {},
   "outputs": [
    {
     "name": "stdout",
     "output_type": "stream",
     "text": [
      "Variance Reduction Monte Carlo with 260 samples until time = 10000\n",
      "failure rate: 55.38%\n",
      "5% confidence interval: [50.30%, 60.47%]\n"
     ]
    }
   ],
   "source": [
    "p_ = failures_/n_\n",
    "print(f\"Variance Reduction Monte Carlo with {n_} samples until time = {time}\")\n",
    "print(f'\\rfailure rate: {p_:.2%}')\n",
    "print(f'5% confidence interval: [{p_ - 1.65*(p_*(1-p_)/n_)**.5:.2%}, {p_ + 1.65*(p_*(1-p_)/n_)**.5:.2%}]')"
   ]
  },
  {
   "cell_type": "code",
   "execution_count": 9,
   "metadata": {},
   "outputs": [
    {
     "data": {
      "text/plain": [
       "Text(0, 0.5, 'Probabilidad')"
      ]
     },
     "execution_count": 9,
     "metadata": {},
     "output_type": "execute_result"
    },
    {
     "data": {
      "image/png": "[encoded data removed]",
      "text/plain": [
       "<Figure size 432x288 with 1 Axes>"
      ]
     },
     "metadata": {
      "needs_background": "light"
     },
     "output_type": "display_data"
    }
   ],
   "source": [
    "# a, b = 0, 25*365\n",
    "# zoom = traj[(a <= traj[0]) & (traj[0] <= b)]\n",
    "\n",
    "# plt.plot(zoom[0], zoom[1])\n",
    "# plt.ylim(min(zoom[1])*0.97, max(zoom[1])*1.03)\n",
    "# plt.xlim(zoom[0].iloc[0], zoom[0].iloc[-1])\n",
    "\n",
    "# # other plot\n",
    "# plt.plot(traj[0]/365, traj[1])\n",
    "plt.hlines(p, 0, n_, colors='y')\n",
    "plt.hlines(p_, 0, n_, colors='red')\n",
    "\n",
    "plt.plot(proportions_over_time[:n_], color = 'g')\n",
    "\n",
    "plt.plot(proportions_over_time_)\n",
    "\n",
    "\n",
    "plt.title(f\"Proporciones de Ruina con MC, RV; n = {n_}, t = {time}\")\n",
    "plt.legend(['P{Ruina} con MC', 'P{Ruina} con RV', 'Proporción MC', 'Proporción RV'])\n",
    "plt.xlabel('Número de simulaciones [n]')\n",
    "plt.ylabel('Probabilidad')"
   ]
  },
  {
   "cell_type": "code",
   "execution_count": 10,
   "metadata": {},
   "outputs": [
    {
     "data": {
      "text/plain": [
       "Text(0, 0.5, 'Probabilidad')"
      ]
     },
     "execution_count": 10,
     "metadata": {},
     "output_type": "execute_result"
    },
    {
     "data": {
      "image/png": "[encoded data removed]",
      "text/plain": [
       "<Figure size 432x288 with 1 Axes>"
      ]
     },
     "metadata": {
      "needs_background": "light"
     },
     "output_type": "display_data"
    }
   ],
   "source": [
    "plt.hlines(p, 0, n, colors='y')\n",
    "plt.plot(proportions_over_time, color = 'g')\n",
    "plt.title(f\"Proporciones de Ruina con MC; n = {n}, t = {time}\")\n",
    "plt.legend(['P{Ruina}', 'Proporción'], loc = 'lower right')\n",
    "plt.xlabel('Número de simulaciones [n]')\n",
    "plt.ylabel('Probabilidad')"
   ]
  }
 ],
 "metadata": {
  "kernelspec": {
   "display_name": "Python 3.10.1 64-bit",
   "language": "python",
   "name": "python3"
  },
  "language_info": {
   "codemirror_mode": {
    "name": "ipython",
    "version": 3
   },
   "file_extension": ".py",
   "mimetype": "text/x-python",
   "name": "python",
   "nbconvert_exporter": "python",
   "pygments_lexer": "ipython3",
   "version": "3.10.1"
  },
  "orig_nbformat": 4,
  "vscode": {
   "interpreter": {
    "hash": "26de051ba29f2982a8de78e945f0abaf191376122a1563185a90213a26c5da77"
   }
  }
 },
 "nbformat": 4,
 "nbformat_minor": 2
}
